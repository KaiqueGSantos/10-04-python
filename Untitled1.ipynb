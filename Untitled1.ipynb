{
 "cells": [
  {
   "cell_type": "code",
   "execution_count": 11,
   "id": "b7db0c45",
   "metadata": {},
   "outputs": [
    {
     "name": "stdout",
     "output_type": "stream",
     "text": [
      "Digite o primeiro numero: 123\n",
      "Digite o segundo numero: 123\n",
      "Digite o terceiro numero: 123\n",
      "O maior número é 123\n"
     ]
    }
   ],
   "source": [
    "n1 = int(input(\"Digite o primeiro numero: \"))\n",
    "n2 = int(input(\"Digite o segundo numero: \"))\n",
    "n3 = int(input(\"Digite o terceiro numero: \"))\n",
    "\n",
    "if(n1 > n2 and n1 > n3):\n",
    "    print(f\"O maior número é {n1}.\")\n",
    "elif(n2 > n3):\n",
    "    print(f\"O maior número é {n2}.\")\n",
    "else:\n",
    "    print(f\"O maior número é {n3}.\")"
   ]
  },
  {
   "cell_type": "code",
   "execution_count": 14,
   "id": "fb65965c",
   "metadata": {},
   "outputs": [
    {
     "name": "stdout",
     "output_type": "stream",
     "text": [
      "Digite um número: 13\n",
      "O número 13 é impar\n"
     ]
    }
   ],
   "source": [
    "n1 = int(input(\"Digite um número: \"))\n",
    "r = n1%2\n",
    "\n",
    "if(r==1):\n",
    "    print(f\"O número {n1} é impar.\")\n",
    "else:\n",
    "    print(f\"O número {n1} é par.\")"
   ]
  },
  {
   "cell_type": "code",
   "execution_count": 24,
   "id": "f916d08a",
   "metadata": {},
   "outputs": [
    {
     "name": "stdout",
     "output_type": "stream",
     "text": [
      "Digite a coordenada X: 132\n",
      "Coordenada X(132) não esta nos limites do país.\n"
     ]
    }
   ],
   "source": [
    "x = int(input(\"Digite a coordenada X: \"))\n",
    "if(x >= -800 and x <= 22):\n",
    "    y = int(input(\"Digite a coordenada Y: \"))\n",
    "    if(y >= -20 and y <= 35):\n",
    "        print(f\"Coordenada({x}, {y}) esta nos limites do país.\") \n",
    "    else:\n",
    "        print(f\"Coordenada Y({y}) não esta nos limites do país.\") \n",
    "else:\n",
    "    print(f\"Coordenada X({x}) não esta nos limites do país.\")"
   ]
  }
 ],
 "metadata": {
  "kernelspec": {
   "display_name": "Python 3 (ipykernel)",
   "language": "python",
   "name": "python3"
  },
  "language_info": {
   "codemirror_mode": {
    "name": "ipython",
    "version": 3
   },
   "file_extension": ".py",
   "mimetype": "text/x-python",
   "name": "python",
   "nbconvert_exporter": "python",
   "pygments_lexer": "ipython3",
   "version": "3.9.13"
  }
 },
 "nbformat": 4,
 "nbformat_minor": 5
}
